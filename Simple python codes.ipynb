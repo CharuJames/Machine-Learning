{
 "cells": [
  {
   "cell_type": "code",
   "execution_count": 60,
   "metadata": {},
   "outputs": [
    {
     "name": "stdout",
     "output_type": "stream",
     "text": [
      "True\n"
     ]
    }
   ],
   "source": [
    "def is_palindrome(word):\n",
    "    l = len(word)\n",
    "    k= l-1\n",
    "    count = 0\n",
    "    word = word.lower()\n",
    "    for i in range(0,int(l/2)):\n",
    "        if (word[i] == word[k]):\n",
    "            k= k-1\n",
    "            count += 1\n",
    "    if(count==4):\n",
    "        palin = True\n",
    "    else:\n",
    "        palin = False\n",
    "    return palin\n",
    "    \n",
    "print(is_palindrome('Deleveled'))"
   ]
  },
  {
   "cell_type": "markdown",
   "metadata": {},
   "source": [
    "# 1. File Owners\n",
    "Implement a group_by_owners function that:\n",
    "Accepts a dictionary containing the file owner name for each file name.\n",
    "Returns a dictionary containing a list of file names for each owner name, in any order.\n",
    "For example, for dictionary {'Input.txt': 'Randy', 'Code.py': 'Stan', 'Output.txt': 'Randy'} \n",
    "the group_by_owners function should return {'Randy': ['Input.txt', 'Output.txt'], 'Stan': ['Code.py']}."
   ]
  },
  {
   "cell_type": "code",
   "execution_count": 62,
   "metadata": {},
   "outputs": [
    {
     "name": "stdout",
     "output_type": "stream",
     "text": [
      "{'Input.txt': 'Randy', 'Code.py': 'Stan', 'Output.txt': 'Randy'}\n",
      "{'Randy': ['Input.txt', 'Output.txt'], 'Stan': ['Code.py']}\n"
     ]
    }
   ],
   "source": [
    "def group_by_owners(files):\n",
    "    print(files)\n",
    "    j =[]\n",
    "    l=[]\n",
    "    newd = {}\n",
    "    for x,y in files.items():\n",
    "        if (y == 'Randy'):\n",
    "            j.append(x)\n",
    "            newd[y]= j\n",
    "        elif (y == 'Stan'):\n",
    "            l.append(x)\n",
    "            newd[y]= l\n",
    "    return newd\n",
    "    \n",
    "files = {\n",
    "    'Input.txt': 'Randy',\n",
    "    'Code.py': 'Stan',\n",
    "    'Output.txt': 'Randy'\n",
    "}   \n",
    "print(group_by_owners(files))"
   ]
  },
  {
   "cell_type": "markdown",
   "metadata": {},
   "source": [
    "# 2. Ice Cream Machine\n",
    "Implement the IceCreamMachines scoops method so that it returns all combinations of one ingredient and one topping. \n",
    "If there are no ingredients or toppings, the method should return an empty list.\n",
    "\n",
    "For example, IceCreamMachine([\"vanilla\", \"chocolate\"], [\"chocolate sauce\"]).scoops() \n",
    "should return [['vanilla', 'chocolate sauce'], ['chocolate', 'chocolate sauce']]."
   ]
  },
  {
   "cell_type": "code",
   "execution_count": 61,
   "metadata": {},
   "outputs": [
    {
     "name": "stdout",
     "output_type": "stream",
     "text": [
      "[['vanilla', ['chocolate sauce']], ['chocolate', ['chocolate sauce']]]\n"
     ]
    }
   ],
   "source": [
    "class IceCreamMachine:\n",
    "    \n",
    "    def __init__(self, ingredients, toppings):\n",
    "        self.ingredients = ingredients\n",
    "        self.toppings = toppings\n",
    "        \n",
    "    def scoops(self):\n",
    "        scoop = []\n",
    "        for ing in self.ingredients:\n",
    "            k=[ing,self.toppings]\n",
    "            scoop.append(k)\n",
    "        return scoop\n",
    "\n",
    "machine = IceCreamMachine([\"vanilla\", \"chocolate\"], [\"chocolate sauce\"])\n",
    "print(machine.scoops()) #should print[['vanilla', 'chocolate sauce'], ['chocolate', 'chocolate sauce']]"
   ]
  }
 ],
 "metadata": {
  "kernelspec": {
   "display_name": "Python 3",
   "language": "python",
   "name": "python3"
  },
  "language_info": {
   "codemirror_mode": {
    "name": "ipython",
    "version": 3
   },
   "file_extension": ".py",
   "mimetype": "text/x-python",
   "name": "python",
   "nbconvert_exporter": "python",
   "pygments_lexer": "ipython3",
   "version": "3.7.0"
  }
 },
 "nbformat": 4,
 "nbformat_minor": 2
}
